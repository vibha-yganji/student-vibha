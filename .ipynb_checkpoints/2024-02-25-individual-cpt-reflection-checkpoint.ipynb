{
 "cells": [
  {
   "cell_type": "markdown",
   "id": "51a9f4c2-0d61-4f27-a29d-897dcba3e3af",
   "metadata": {},
   "source": [
    "---\n",
    "toc: False\n",
    "comments: True\n",
    "title: CPT Project Individual Writeup\n",
    "layout: post\n",
    "description: My reflection and write-up of both my group's CPT project and what I've learned over the past trimester!\n",
    "---"
   ]
  },
  {
   "cell_type": "markdown",
   "id": "c3688d82-8359-4af7-a3ba-f4c276080cc6",
   "metadata": {},
   "source": [
    "CPT Requirements:\n",
    "(1) Input from user/device/online data stream/file:\n",
    "\n",
    "- me me me me me\n",
    "(2) Use at least one list (or other collection type) to represent a collection of data that is stored and used to manage program complexity and help fulfill the program’s purpose\n",
    "\n",
    "(3) At least one procedure that contributes to the program’s intended purpose, where you have defined the procedure’s name/the return type (if necessary)/one or more parameters\n",
    "\n",
    "(4) An algorithm that includes sequencing, selection, and iteration that is in the body of the selected procedure\n",
    "\n",
    "(5) Calls to your student-developed procedure\n",
    "\n",
    "(6) Instructions for output (tactile, audible, visual, or textual) based on input and program functionality"
   ]
  },
  {
   "cell_type": "markdown",
   "id": "d3501aa4-b2e1-414b-9fb3-c8137cd014ed",
   "metadata": {},
   "source": [
    "### <strong> Reflection </strong>\n",
    "\n",
    "The past trimester has been very instrumental in advancing my understanding of the College Board requriements and expectations for an AP CSP student as I struggled during the first trimester in understanding how to apply the code that we were shown in class. A variety of new concepts have been introduced to me this trimester as well including. "
   ]
  }
 ],
 "metadata": {
  "kernelspec": {
   "display_name": "Python 3 (ipykernel)",
   "language": "python",
   "name": "python3"
  },
  "language_info": {
   "codemirror_mode": {
    "name": "ipython",
    "version": 3
   },
   "file_extension": ".py",
   "mimetype": "text/x-python",
   "name": "python",
   "nbconvert_exporter": "python",
   "pygments_lexer": "ipython3",
   "version": "3.11.7"
  }
 },
 "nbformat": 4,
 "nbformat_minor": 5
}
