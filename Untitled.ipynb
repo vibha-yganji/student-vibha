{
 "cells": [
  {
   "cell_type": "code",
   "execution_count": null,
   "id": "2a81d22f-be24-42f9-9102-a1c4e56a4bb5",
   "metadata": {},
   "outputs": [],
   "source": [
    "---\n",
    "toc: False\n",
    "comments: True\n",
    "title: CPT Project Individual Writeup\n",
    "layout: post\n",
    "description: My reflection and write-up of both my group's CPT project and what I've learned over the past trimester!\n",
    "---"
   ]
  },
  {
   "cell_type": "code",
   "execution_count": null,
   "id": "5237d099-9f49-45bf-9409-ab8eeb0ff77a",
   "metadata": {},
   "outputs": [],
   "source": [
    "### CPT Requirements:\n",
    "\n",
    "<strong> (1) Input from user/device/online data stream/file: </strong>\n",
    "<hr>\n",
    "- me me me me me\n",
    "\n",
    "<strong> (2) Use at least one list (or other collection type) to represent a collection of\n",
    " data that is stored and used to manage program complexity and help fulfill\n",
    " the program’s purpose </strong>\n",
    " <hr>\n",
    "\n",
    "<strong> (3) At least one procedure that contributes to the program’s intended purpose,\n",
    "where you have defined the procedure’s name/the return type (if necessary)/one or more parameters</strong>\n",
    "<hr>\n",
    "\n",
    "<strong> (4) An algorithm that includes sequencing, selection, and iteration that is in the\n",
    "body of the selected procedure</strong>\n",
    "<hr>\n",
    "\n",
    "<strong> (5) Calls to your student-developed procedure </strong>\n",
    "<hr>\n",
    "\n",
    "<strong> (6) Instructions for output (tactile, audible, visual, or textual) based on input and\n",
    "program functionality </strong>\n"
   ]
  },
  {
   "cell_type": "code",
   "execution_count": null,
   "id": "03896fd1-c4ad-4d89-9efa-cfc8eff084d6",
   "metadata": {},
   "outputs": [],
   "source": [
    "### <strong> Reflection </strong>\n",
    "\n",
    "The past trimester has been very instrumental in advancing my understanding of the College Board requriements and expectations for an AP CSP student as I struggled during the first trimester in understanding how to apply the code that we were shown in class. A variety of new concepts have been introduced to me this trimester as well including. "
   ]
  }
 ],
 "metadata": {
  "kernelspec": {
   "display_name": "Python 3 (ipykernel)",
   "language": "python",
   "name": "python3"
  },
  "language_info": {
   "codemirror_mode": {
    "name": "ipython",
    "version": 3
   },
   "file_extension": ".py",
   "mimetype": "text/x-python",
   "name": "python",
   "nbconvert_exporter": "python",
   "pygments_lexer": "ipython3",
   "version": "3.11.7"
  }
 },
 "nbformat": 4,
 "nbformat_minor": 5
}
