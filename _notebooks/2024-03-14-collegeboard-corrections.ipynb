{
 "cells": [
  {
   "cell_type": "markdown",
   "metadata": {},
   "source": [
    "\n",
    "## 67\n",
    "\n",
    "## 68\n",
    "\n",
    "## 69\n",
    "\n",
    "- A and D are the correct answers.\n",
    "- A will require metadata as the images cannot tell you the exact time that the pictures were taken whereas C will also require metadata as the exact location cannot \n",
    "\n",
    "\n",
    "## 70\n",
    "\n",
    "- A is the correct answer as when substring is performed using the paramters oldStr, 1, and (n-1), left will be equivalent to all characters in OldStr to the left of index whereas right will be equivalent to all characters to the right of index n in OldStr. When both the left and right vairables are concatenated, all the characters excpet for the character in position n will be included in newStr. \n",
    "- C is also correct by a similar logic as newStr will be equivalent to all characters to the left of the character in index n of oldStr. When newStr is concatenated with all the characters to the right of the charcater in position n of OldStr, the new variable will be equivalent to all the characters in OldStr except for the character in position n. "
   ]
  }
 ],
 "metadata": {
  "language_info": {
   "name": "python"
  }
 },
 "nbformat": 4,
 "nbformat_minor": 2
}
