{
 "cells": [
  {
   "cell_type": "markdown",
   "metadata": {},
   "source": [
    "---\n",
    "toc: false\n",
    "comments: true\n",
    "title: CB Quiz Corrections\n",
    "layout: post\n",
    "courses: {'compsci': {'week': 11}}\n",
    "description:\n",
    "---"
   ]
  },
  {
   "cell_type": "markdown",
   "metadata": {},
   "source": [
    "**Overall Score** - 57/70"
   ]
  },
  {
   "cell_type": "markdown",
   "metadata": {},
   "source": [
    "\n",
    "**Question 18**\n",
    "- My answer option of B is incorrect as \n",
    "\n",
    "\n",
    "**Question 23**\n",
    "- My answer option of C is incorrect as the Internet was not built to be entirely secure and encryption is also not mandated for all communications as well.\n",
    "- The answer option of B is correct as the Internet was consturcted to use open protocols that allow for ease when connecting more devices to the network. \n",
    "\n",
    "\n",
    "**Question 37**\n",
    "- My answer of D is wrong as if we look at values of n less than/equal to 10, \"daikon\" will be displayed by the code.\n",
    "- However, the answer option of C will never be displayed as it requires for n to NOT be greater than 10 AND for n to be greater than 100. This is not logically possible making it impossible for \"carrot\" to be printed. \n",
    "\n",
    "**Question 44**\n",
    "- My answer of A is wrong as overflow errors only apply when the value the computer is attempting to store exceeds the maximum value that can be represented. This would not result in imprecise values but would instead cause the number to not be stored at all. \n",
    "- B is the correct answer as round-off error instead arise as a result of a fixed number of bits (which is the same as answer A) but **NOT** an overflow error.\n",
    "\n",
    "\n",
    "**Question 48**\n",
    "- My answer of C is wrong as C represents a phisking attack where an unauthorized individual acts as a network administratory and tries to trick users into giving away personal information.\n",
    "- However, a rogue access point is instead defined as a wireless point that gives unauthorized access to secure networks. A best fits the definition as the individual is using a router that contains no security to look at network traffic. \n",
    "\n",
    "\n",
    "**Question 53**\n",
    "- My answer of B is wrong as the psuedocode will only display a value of True if every element in the list is equivalent to the target value which is not the intended function of the program. Step 5 also contains a logical error as it is not possible for the value of count to be grater than position making a greater than or equal to sign not appropriate. \n",
    "- A is the correct answer as Step 4 is the same as B and is logical. However, Step 5 is changed to test if the value of count is greater than or equal to 2 which will make it display True is there are is more than 1 occurence of the target. \n",
    "\n",
    "\n",
    "**Question 60** \n",
    "- My answer of B is wrong due to the application only sending notifications about compatible users who are nearby. There is a low chance that an compatible users will be discovered nearby\n",
    "- C is the correct answer as the most appearant benefit of the app is for users to be encouraged to exercise with each other which will offer for many health benefits. \n",
    "\n",
    "\n",
    "**Question 63**\n",
    "- My answers of B and C are incorrect. B is incorrect as when input1 is equivalent to True and input2 is equivalent to False, the expression evaluates to False whereas the corresponding value in the table is True.\n",
    "- C is also wrong as when input1 is equivalent to True and input2 is equivalent to False, (input1 or input2) evaluates to True which makes the expressione evaluate to False whereas the table provides True as the corresponding value. \n",
    "- A and D are the correct answers as they output the correct Boolean values after the entirety of the expression has been evaluated. For example (in D), if input1 is equivalent to True and input2 is equivalent to False (input1 AND input2) evaluates to False and when it is negated, the expression gives an output of True which matches up with the table.\n",
    "\n",
    "\n",
    "**Question 65**\n",
    "- My answer of A and D were wrong. A is wrong as the if condition would evaluate to True and when the code block of run, False would be outputted as hot AND humid is equivalent to False. Similarly, D is wrong as the if condition would evaluate to False which would prevent the code block from being executed and False being returned instead. \n",
    "- The correct answers are B and C as they use hot OR humid which instead evaluates to True.\n",
    "\n",
    "\n",
    "**Question 66** \n",
    "- My answer of D was right but my second answer of B was incorrect as the code segment prints the incorrect output in some cases. For example, if the value of timer is equivalent to 70, then the code would assign a value of 1000 to bonus where it should instead assign a value of 1500 as 70 > 60. \n",
    "- The correct second answer option is A as it satisfies all cases and gives the same output.\n",
    "\n",
    "**Question 70** \n",
    "- One of my answer options of B was incorrect as it assigns an extra letter for both the left and right variables. A example of this is how the left variable is assigned all the characters in oldStr from the first letter to the letter beyong the character at position n. As a result, the concatenation of the left and right variables results in an extra 2 letters being added in the middle of the string.\n",
    "- My other answer option of C was correct and the other correct answer is A.\n",
    "- A is correct as left is assigned all characters from the 1st character of oldStr to the character prior to the character at position n. right is then assigned the characters in oldStr that are present from position n+1 to the end of oldStr. When these two variables are concatendated, the appropriate string is stored in newStr.\n"
   ]
  }
 ],
 "metadata": {
  "language_info": {
   "name": "python"
  }
 },
 "nbformat": 4,
 "nbformat_minor": 2
}
