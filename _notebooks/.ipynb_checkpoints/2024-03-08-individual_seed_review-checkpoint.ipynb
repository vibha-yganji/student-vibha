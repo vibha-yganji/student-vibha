{
 "cells": [
  {
   "cell_type": "markdown",
   "id": "3a640331-4717-4917-9c16-801e7a4fe60d",
   "metadata": {},
   "source": [
    "---\n",
    "toc: false\n",
    "comments: true\n",
    "title: Individual Seed Review\n",
    "layout: post\n",
    "courses: {'compsci': {'week': 11}}\n",
    "---"
   ]
  },
  {
   "cell_type": "markdown",
   "id": "7f24a619",
   "metadata": {},
   "source": [
    "### Individual.\n",
    "Individual Progress.  Individual maintains an at-a-glance.  AP preparation progress, Key commits, GitHub Analytics, etc.  Student uses their blog to start each individual review.  This should be used to support accomplishments.\n",
    "\n",
    "#### Key Commits\n",
    "\n",
    "<img src = \"https://imgpile.com/images/K5NUiC.png\">\n",
    "\n",
    "### GitHub Pages Blog + AP work\n",
    " Student makes quality effort to record histories and solicit utterances/issue comments on AP and Project work.\n",
    " \n",
    " - [2nd Trimester Final](https://github.com/vibha-yganji/student-vibha/issues/3)\n",
    " - [CB MC Quiz](https://vibha-yganji.github.io/student-vibha/2023/12/17/cb_reflection_IPYNB_2_.html)\n"
   ]
  }
 ],
 "metadata": {
  "kernelspec": {
   "display_name": "Python 3 (ipykernel)",
   "language": "python",
   "name": "python3"
  },
  "language_info": {
   "codemirror_mode": {
    "name": "ipython",
    "version": 3
   },
   "file_extension": ".py",
   "mimetype": "text/x-python",
   "name": "python",
   "nbconvert_exporter": "python",
   "pygments_lexer": "ipython3",
   "version": "3.11.7"
  }
 },
 "nbformat": 4,
 "nbformat_minor": 5
}
