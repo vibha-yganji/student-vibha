{
 "cells": [
  {
   "cell_type": "markdown",
   "id": "61b4a590",
   "metadata": {},
   "source": [
    "---\n",
    "toc: false\n",
    "comments: true\n",
    "title: Individual Seed Review\n",
    "layout: post\n",
    "courses: {'compsci': {'week': 11}}\n",
    "---"
   ]
  },
  {
   "cell_type": "markdown",
   "id": "1e47ef90",
   "metadata": {},
   "source": [
    "### Ideation\n"
   ]
  }
 ],
 "metadata": {
  "language_info": {
   "name": "python"
  }
 },
 "nbformat": 4,
 "nbformat_minor": 5
}
