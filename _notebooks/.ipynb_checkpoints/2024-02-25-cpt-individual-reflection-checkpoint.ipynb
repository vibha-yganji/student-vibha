{
 "cells": [
  {
   "cell_type": "markdown",
   "id": "6d268c8c-7717-4aaa-9b7e-e34d0b94e601",
   "metadata": {},
   "source": [
    "---\n",
    "toc: False\n",
    "comments: True\n",
    "title: CPT Project Individual Writeup\n",
    "layout: post\n",
    "description: My reflection and write-up of both my group's CPT project and what I've learned over the past trimester!\n",
    "---"
   ]
  },
  {
   "cell_type": "markdown",
   "id": "aa856e48-1865-495c-ac72-44398a370cd2",
   "metadata": {},
   "source": [
    "### CPT Requirements:\n",
    "\n",
    "<strong> (1) Input from user/device/online data stream/file: </strong>\n",
    "<hr>\n",
    "- me me me me me\n",
    "\n",
    "<strong> (2) Use at least one list (or other collection type) to represent a collection of\n",
    " data that is stored and used to manage program complexity and help fulfill\n",
    " the program’s purpose </strong>\n",
    " <hr>\n",
    "\n",
    "<strong> (3) At least one procedure that contributes to the program’s intended purpose,\n",
    "where you have defined the procedure’s name/the return type (if necessary)/one or more parameters</strong>\n",
    "<hr>\n",
    "\n",
    "<strong> (4) An algorithm that includes sequencing, selection, and iteration that is in the\n",
    "body of the selected procedure</strong>\n",
    "<hr>\n",
    "\n",
    "<strong> (5) Calls to your student-developed procedure </strong>\n",
    "<hr>\n",
    "\n",
    "<strong> (6) Instructions for output (tactile, audible, visual, or textual) based on input and\n",
    "program functionality </strong>\n"
   ]
  },
  {
   "cell_type": "markdown",
   "id": "2bf749f4-d790-44bf-bd04-b2e7edc0af29",
   "metadata": {},
   "source": [
    "### <strong> Reflection </strong>\n",
    "\n",
    "The past trimester has been very instrumental in advancing my understanding of the College Board requriements and expectations for an AP CSP student as I struggled during the first trimester in understanding how to apply the code that we were shown in class. A variety of new concepts have been introduced to me this trimester as well including. "
   ]
  }
 ],
 "metadata": {
  "kernelspec": {
   "display_name": "Python 3 (ipykernel)",
   "language": "python",
   "name": "python3"
  },
  "language_info": {
   "codemirror_mode": {
    "name": "ipython",
    "version": 3
   },
   "file_extension": ".py",
   "mimetype": "text/x-python",
   "name": "python",
   "nbconvert_exporter": "python",
   "pygments_lexer": "ipython3",
   "version": "3.11.7"
  }
 },
 "nbformat": 4,
 "nbformat_minor": 5
}
