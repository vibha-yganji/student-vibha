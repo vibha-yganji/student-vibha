{
 "cells": [
  {
   "cell_type": "markdown",
   "id": "d3827d76",
   "metadata": {},
   "source": [
    "---\n",
    "toc: False\n",
    "comments: True\n",
    "layout: post\n",
    "hide: true\n",
    "title: Night at the Museum (NATM) Reflection \n",
    "description: \n",
    "courses: {'compsci': {'week': 11}}\n",
    "---\n",
    "{::nomarkdown}\n",
    "{% jupyter_notebook \"sample.ipynb\" %}\n",
    "{:/nomarkdown}"
   ]
  },
  {
   "cell_type": "markdown",
   "id": "90c41062-e9e4-4bcc-99c2-c21bfea6570d",
   "metadata": {},
   "source": [
    "## **Feedback from Demos**\n",
    "\n",
    "#### **Glows**\n",
    "- In our later demos, our audience really liked the food tracker and its ability to create a pie chart and measure how close an individual's diet was to the USDA recoomended daily amounts.\n",
    "- We were also given the suggestion to add additional profile picture functionality through the ability to upload profile pictures.\n",
    "\n",
    "\n",
    "#### **Grows**\n",
    "- Our demos started out being very disorganized as our team was unsure of how to split the presentation of the features and the code for both the frontend + backend among each team member.\n",
    "- As a result, we were unable to properly present all features in the initial demos and did not receive enough feedback.\n",
    "- Some of our audience members commented on the organization of your navigation on the home page and suggested to declutter it (this can be implemented by ).\n"
   ]
  },
  {
   "cell_type": "markdown",
   "id": "94bac7be-116b-49b7-9ad9-c23c5ea5cba7",
   "metadata": {},
   "source": [
    "## **Other Team Reviews**\n",
    "\n",
    "#### **Eshika, Aditi, Nupur, Avanthika's project:** \n",
    "\n",
    "- This team's project incorporated a feature that allowed the user to input a beverage and the corresponding sugar level would be provided as an output.\n",
    "- This feature really interested me as \n",
    "\n",
    "\n",
    "#### **Ananya, Priya, Arushi, Sumedha's project:**\n",
    "- This team's project related to mental health and provided a quiz that allowed the individual to assess their mental status.\n",
    "- This project also interested mw "
   ]
  },
  {
   "cell_type": "markdown",
   "id": "6e3ad72c-5f87-4a5b-a1dd-41e581933141",
   "metadata": {},
   "source": [
    "## **Additions to CPT Project**\n",
    "\n",
    "- Based off of the "
   ]
  },
  {
   "cell_type": "markdown",
   "id": "50e4c6a0-f13b-4a23-ab1f-a0677356f7a6",
   "metadata": {},
   "source": [
    "## **Projects Outside of CompSci**\n",
    "\n",
    "#### **Anusha's Photography**\n",
    "- I really enjoyed looking at Anusha's photography pictures\n"
   ]
  },
  {
   "cell_type": "markdown",
   "id": "6dc48c19-e503-4375-9de2-772331bca8ff",
   "metadata": {},
   "source": [
    "![image.png](attachment:image.png)"
   ]
  }
 ],
 "metadata": {
  "kernelspec": {
   "display_name": "Python 3 (ipykernel)",
   "language": "python",
   "name": "python3"
  },
  "language_info": {
   "codemirror_mode": {
    "name": "ipython",
    "version": 3
   },
   "file_extension": ".py",
   "mimetype": "text/x-python",
   "name": "python",
   "nbconvert_exporter": "python",
   "pygments_lexer": "ipython3",
   "version": "3.11.7"
  }
 },
 "nbformat": 4,
 "nbformat_minor": 5
}
