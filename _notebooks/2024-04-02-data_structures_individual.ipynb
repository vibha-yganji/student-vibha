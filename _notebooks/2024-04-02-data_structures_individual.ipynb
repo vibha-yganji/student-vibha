{
 "cells": [
  {
   "cell_type": "markdown",
   "metadata": {},
   "source": [
    "---\n",
    "toc: false\n",
    "comments: true\n",
    "title: Individual Data Structures Reflection\n",
    "layout: post\n",
    "courses: {'compsci': {'week': 11}}\n",
    "description:\n",
    "---"
   ]
  },
  {
   "cell_type": "markdown",
   "metadata": {},
   "source": [
    "## Old Projects\n",
    "- [2nd Trimester CPT Project](https://github.com/jplip/frontTri2)"
   ]
  }
 ],
 "metadata": {
  "language_info": {
   "name": "python"
  }
 },
 "nbformat": 4,
 "nbformat_minor": 2
}
