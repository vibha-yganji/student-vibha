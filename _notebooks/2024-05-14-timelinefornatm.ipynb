{
 "cells": [
  {
   "cell_type": "markdown",
   "metadata": {},
   "source": [
    "---\n",
    "toc: true\n",
    "comments: true\n",
    "title: Timeline for Tri 3 NATM Project 🤓\n",
    "layout: post\n",
    "courses: {'compsci': {'week': 11}}\n",
    "description: Timeline for NATM!!\n",
    "---"
   ]
  },
  {
   "cell_type": "markdown",
   "metadata": {},
   "source": [
    "**Overview of Plan:**\n",
    "\n",
    "- full idea for plan is on the following issues:\n",
    "    - [Vibha](https://github.com/vibha-yganji/student-vibha/issues/13#issue-2299295199) \n",
    "    - [Prakruti]()\n",
    "\n",
    "**Task feature**\n",
    "- Prakruti and I will work on creating an extension of a task creation/tracker feature where users can input a set of variables relating to a certain task (the name, its deadline, and their progress on the assignment) and assign the task a certain priority as well. \n",
    "- "
   ]
  }
 ],
 "metadata": {
  "language_info": {
   "name": "python"
  }
 },
 "nbformat": 4,
 "nbformat_minor": 2
}
