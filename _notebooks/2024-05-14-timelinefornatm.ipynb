{
 "cells": [
  {
   "cell_type": "markdown",
   "metadata": {},
   "source": [
    "---\n",
    "toc: true\n",
    "comments: true\n",
    "title: Timeline for Tri 3 NATM Project\n",
    "layout: post\n",
    "courses: {'compsci': {'week': 11}}\n",
    "description: Timeline for NATM!!\n",
    "---"
   ]
  },
  {
   "cell_type": "markdown",
   "metadata": {},
   "source": [
    "**Overview of Plan:**\n",
    "\n",
    "- Prakruti and I will work on creating an extension of a task creation/tracker feature where users can input a set of variables relating to a certain task (the name, its deadline, and their progress on the assignment) and assign the task a certain priority as well. \n",
    "- We will also work on adding additional functional functionality to our existing \n",
    "\n",
    "\n",
    "- full idea for plan is on the following issues:\n",
    "    - [Vibha](https://github.com/vibha-yganji/student-vibha/issues/13#issue-2299295199) \n",
    "    - [Prakruti]()"
   ]
  },
  {
   "cell_type": "markdown",
   "metadata": {},
   "source": [
    "### **Timeline**\n",
    "\n",
    "\n",
    "| Planned Dates | Name of Task     | Brief Description of Task                      |\n",
    "|---------------|------------------|------------------------------------------------|\n",
    "| 05/15 - 05/20 | **Extension of Task Feature**         | Prakruti and I will work on extending the task feature by allowing for users to assign priorities to each task. We will also develop the ability for users to filter out and sort each task depending on its priority (or search for a certain priority value).           |\n",
    "| 05/20 - 05/25 | Task 2           |       |\n",
    "| 05/25 - 05/30 | Task 3           |      |\n",
    "\n"
   ]
  }
 ],
 "metadata": {
  "language_info": {
   "name": "python"
  }
 },
 "nbformat": 4,
 "nbformat_minor": 2
}
