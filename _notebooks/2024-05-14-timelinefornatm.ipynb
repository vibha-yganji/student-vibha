{
 "cells": [
  {
   "cell_type": "markdown",
   "metadata": {},
   "source": [
    "---\n",
    "toc: true\n",
    "comments: true\n",
    "title: Timeline for Tri 3 NATM Project\n",
    "layout: post\n",
    "courses: {'compsci': {'week': 11}}\n",
    "description: Timeline for NATM!!\n",
    "---"
   ]
  },
  {
   "cell_type": "markdown",
   "metadata": {},
   "source": [
    "**Overview of Plan:**\n",
    "\n",
    "- Prakruti and I will work on creating an extension of a task creation/tracker feature where users can input a set of variables relating to a certain task (the name, its deadline, and their progress on the assignment) and assign the task a certain priority as well. \n",
    "- We will also work on adding additional functional functionality to our existing features (recipes + quotes) by creating a potential tagging system for the recipes which can be searched through alongside a rating system for the quote feature. \n",
    "\n",
    "\n",
    "- full idea for plan is on the following issues:\n",
    "    - [Vibha](https://github.com/vibha-yganji/student-vibha/issues/13#issue-2299295199) \n",
    "    - [Prakruti](https://github.com/parkib/pb2csp/issues/11#issue-2301979471)"
   ]
  },
  {
   "cell_type": "markdown",
   "metadata": {},
   "source": [
    "### **Timeline**\n",
    "\n",
    "\n",
    "| Planned Dates | Name of Task     | Brief Description of Task                      |\n",
    "|---------------|------------------|------------------------------------------------|\n",
    "| 05/15 - 05/20 | **Extension of Task Feature**         | Prakruti and I will work on extending the task feature by allowing for users to assign priorities to each task alongside other input values. We will also develop the ability for users to filter out and sort each task depending on its priority/deadline (or search for a certain priority value/deadline date or time left).           |\n",
    "| 05/20 - 05/25 | **Recipe Media Upload + Quote Rating System**         |     Prakruti and I will work on further developing our individual features by adding upload capabilities to my recipe feature while working on a 5 star rating system for Prakruti's quote feature.   |\n",
    "| 05/25 - 05/30 | **Sorting/searching capabilites + other additions**          | During this period, Prakruti and I will work on adding sorting + searching algorithms to our individual features. This will involve a tag system for recipes where users can label each of their recipes with a variable tag which can be searched. As for Prakruti's quote feature, we intend on creating a sorting system where users can sort the quotes depending on their individual ratings (the rating system was created during the previous week).     |\n",
    "\n"
   ]
  }
 ],
 "metadata": {
  "language_info": {
   "name": "python"
  }
 },
 "nbformat": 4,
 "nbformat_minor": 2
}
