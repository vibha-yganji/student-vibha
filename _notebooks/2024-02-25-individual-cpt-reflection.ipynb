{
 "cells": [
  {
   "cell_type": "markdown",
   "id": "51a9f4c2-0d61-4f27-a29d-897dcba3e3af",
   "metadata": {},
   "source": [
    "---\n",
    "toc: False\n",
    "comments: True\n",
    "title: CPT Project Individual Writeup\n",
    "layout: post\n",
    "courses: {'compsci': {'week': 11}}\n",
    "description: My reflection and write-up of both my group's CPT project and what I've learned over the past trimester!\n",
    "---"
   ]
  },
  {
   "cell_type": "markdown",
   "id": "980eb5bc",
   "metadata": {},
   "source": [
    "My group's project focuses on tracking health data through a variety of features includiing food, water, exercise, and sleep. The features I mainly contributed to was the profile page where users are able to select a profile picture. The profile_display page also offers a preview of the profile picture and the ability to update your name. It also functions as a dahsboard where users can add their height, weight, and other variables to track their health.\n",
    "\n",
    " Here are some of my key commits over the course of my project: \n",
    " - [Profile Edits](https://github.com/jplip/frontTri2/commit/cb957f1c20981fca7f76833139d1cc6cfae5010e)\n",
    " - [Addition of Dashboard Features](https://github.com/jplip/frontTri2/commit/6bd2945379ef06fce428c6c7fff173d9dbe44f9b)"
   ]
  },
  {
   "cell_type": "markdown",
   "id": "c3688d82-8359-4af7-a3ba-f4c276080cc6",
   "metadata": {},
   "source": [
    "### **Component A: Program Code**\n",
    "\n",
    "#### <strong> CPT Requirements: </strong>\n",
    "[Link to CPT Requirements](https://apcentral.collegeboard.org/media/pdf/ap-csp-student-task-directions.pdf)\n",
    "\n",
    "<table>\n",
    "  <tr>\n",
    "    <th>Requirement</th>\n",
    "    <th>Description</th>\n",
    "  </tr>\n",
    "  <tr>\n",
    "    <td>(1) Input from user/device/online data stream/file:</td>\n",
    "    <td>\n",
    "      <ul>\n",
    "        <li>A variety of features on our project require user input including the login, registration, and profile pages.</li>\n",
    "        <li><strong>Specific example:</strong> the profile display page takes in a user's height, weight, and other health data.</li>\n",
    "        <li><a href=\"https://ibb.co/jRbjn2L\">1st Requirement</a></li>\n",
    "         <img src=\"https://i.ibb.co/L5YsVWC/Screenshot-2024-02-25-at-6-03-32-PM.png\">\n",
    "      </ul>\n",
    "    </td>\n",
    "  </tr>\n",
    "  <tr>\n",
    "    <td>(2) Use at least one list (or other collection type) to represent a collection of data that is stored and used to manage program complexity and help fulfill the program’s purpose</td>\n",
    "    <td>\n",
    "      <ul>\n",
    "        <li>The profile display/dashboard page makes use of local storage to store multiple variables including the weight, height, caloric intake, and other information about a user.</li>\n",
    "        <li><a href=\"https://ibb.co/f9Yv12V\">2nd requirement</a></li>\n",
    "        <img src=\"https://i.ibb.co/FXbVxKk/Screenshot-2024-02-25-at-8-22-06-PM.png\">\n",
    "        <li>Other pages of our project such as the login page make use of JSON which is a storage mechanism to keep track of the several variables that we use.</li>\n",
    "      </ul>\n",
    "    </td>\n",
    "  </tr>\n",
    "  <tr>\n",
    "    <td>(3) At least one procedure that contributes to the program’s intended purpose, where you have defined the procedure’s name/the return type (if necessary)/one or more parameters</td>\n",
    "    <td>\n",
    "      <ul>\n",
    "        <li>The profile creation page requires the use of many functions such as getProfileImage, getProfileAscii (this function requires the use of a singular parameter), and getSelectedProfile to successfully allow a user to select an ASCII profile and update the website with the corresponding picture.</li>\n",
    "        <li><a href=\"https://ibb.co/wS12Cb9\">3rd requirement</a></li>\n",
    "        <img src=\"https://i.ibb.co/dPyH63d/Screenshot-2024-02-25-at-8-24-59-PM.png\">\n",
    "      </ul>\n",
    "    </td>\n",
    "  <t/tr>\n",
    "  <tr>\n",
    "    <td>(4) An algorithm that includes sequencing, selection, and iteration that is in the body of the selected procedure</td>\n",
    "    <td>\n",
    "      <ul>\n",
    "      <li> The loggedInUserName() function uses an if/else condition to test if the user is logged in. The first path that the program can take if the condition evaluates to True is to print both the username and UserID. If the conditional evaluates to False, the prgoram will take the path where the it prints a message that the user is not logged in. </li>\n",
    "      <img src=\" https://i.ibb.co/6JFT3F7/Screenshot-2024-02-26-at-8-26-23-PM.png\">\n",
    "        <li>The calculateBMI() function uses an if/else conditional to test for the presence of both the height and weight variables. After doing so, it <strong>selects</strong> the route where the BMI is calculated. If the weight and height variables were not provided by the user, the algorithm would select a path where it would instead inform the user to enter valid values for the required variables. This function iterates through two potential paths for the program.</li>\n",
    "        <li><a href=\"https://ibb.co/q0DQwm8\">4th requirement (2nd example)</a></li>\n",
    "         <img src=\"https://i.ibb.co/bH69nNV/Screenshot-2024-02-25-at-8-27-01-PM.png\">\n",
    "      </ul>\n",
    "    </td>\n",
    "  </tr>\n",
    "  <tr>\n",
    "    <td>(5) Calls to your student-developed procedure</td>\n",
    "    <td>\n",
    "      <ul>\n",
    "        <li>The updateProfilePicture() function is called within the profile_creation file to update the div element that offers a preview of the selected profile picture with the picture that the user has chosen.</li>\n",
    "        <li><a href=\"https://ibb.co/Y7VSH3w\">5th requirement</a></li>\n",
    "        <img src=\"https://i.ibb.co/4Z0Lh73/Screenshot-2024-02-25-at-8-28-41-PM.png\">\n",
    "      </ul>\n",
    "    </td>\n",
    "  </tr>\n",
    "  <tr>\n",
    "    <td>(6) Instructions for output (tactile, audible, visual, or textual) based on input and program functionality</td>\n",
    "    <td>\n",
    "      <ul>\n",
    "        <li>After user chooses their profile picture from the set of ASCII characters, the picture appears in both the upper right corner and on the profile_creation page.</li>\n",
    "        <li>After users enter their weight and height on the profile_display page, they are able to calculate their BMI.</li>\n",
    "        <li><a href=\"https://ibb.co/mFs999m\">6th requirement</a></li>\n",
    "        <img src=\"https://i.ibb.co/DgX999N/Screenshot-2024-02-25-at-8-30-50-PM.png\">\n",
    "      </ul>\n",
    "    </td>\n",
    "  </tr>\n",
    "</table>\n",
    "\n",
    "     "
   ]
  },
  {
   "cell_type": "markdown",
   "id": "f19b1cfe",
   "metadata": {},
   "source": [
    "### **Component B: Video**\n",
    "\n",
    "[Link to video](https://drive.google.com/file/d/1dd9mNGS1VfuugNmz_tCOHt6IEOTvmcrA/view)\n",
    "\n",
    "| Requirements                              | Description |\n",
    "|------------------------------------------------|--------------|\n",
    "| **Input to your program** | The user's selection of their profile picture and thier entry of their height and weight is displayed.    |\n",
    "|**At least one aspect of the functionality of your program**| The array of 4 different ASCII profile pictures is displayed.  |\n",
    "|**Output produced by your program**              |  The BMI is calculated and the profile picture is diplayed in both the upper right div of the page and on the profile picture section of the profile_display page.            |\n",
    "|**Your video may NOT contain any distinguishing information about yourself/voice narration (though text captions are encouraged)** | No voice narration was present and captions were provided.     |         |\n",
    "|**Your video must be either .webm, .mp4, .wmv, .avi, or .mov format, no more than 1 minute in length, and no more than 30MB in file size**|   .mp4 format was used, video was 57 seconds in length and 11.7 MB in size.           |\n"
   ]
  },
  {
   "cell_type": "markdown",
   "id": "556aa6bf",
   "metadata": {},
   "source": [
    "### **Peer Review**\n",
    "\n",
    "Lakshanya and I peer-graded each others' articles and Lakshanya offered me the following feedback:\n",
    "\n",
    "**Overall Score:** 5/5\n",
    "This shows a good understanding of code function and components, as well as an organized presentation of the requirements. Clear description of feature was included and good reflection/lessons shows growth. Extra for submitting early.\n",
    "\n",
    "**Improvements:**\n",
    "\n",
    "- I believe the 4th requirement is supposed to demonstrate the same procedure as the one you chose before (Ascii or profile picture instead of BMI)\n",
    "- For 6th requirement, it asks for output instructions for functionality not input, so probably better suited to include fetch code/fetch explanation\n",
    "- The video captions were a bit lengthy, it might be better to space out a bit more\n",
    "\n",
    "- During our peer-review, Lakshanya also helped me fix the images on my website. "
   ]
  },
  {
   "cell_type": "markdown",
   "id": "d3501aa4-b2e1-414b-9fb3-c8137cd014ed",
   "metadata": {},
   "source": [
    "### <strong> Reflection </strong>\n",
    "\n",
    "The past trimester has been very instrumental in advancing my understanding of the College Board requriements and expectations for an AP CSP student as I struggled during the first trimester in understanding how to apply the code that we were shown in class. A variety of new concepts have been introduced to me this trimester as well which I list in the following section. "
   ]
  },
  {
   "cell_type": "markdown",
   "id": "8c67e4c7",
   "metadata": {},
   "source": [
    "### **Concepts/Lessons**\n",
    "\n",
    "I have compiled a brief list of all the new concepts that I have learned a lot about during this trimester. \n",
    "<br>\n",
    "- **@token_required/decrorator functions:** When doing the first spot check, I would be able to authenticate on Postman without the JWT token. I latet learned that this means that the corresponding part of the code where the user is able to authenticate themself does not have a @token_required function. This function is required to protect routes and prevent unauthorized authentication.\n",
    "- **JWT authentication (concept):** JWT is an abbreviation for JSON web token which is a method of transmitting encrytped information betwen two parties. The three parts of a JWT token are the header, payload, and signature. The payload is the aspect of the token that is responsible for storing the \"data\" of the transmission and contains the encrypted information. The payload can be decrypted using tools such as jwt.io that requires a token prior to decrypting. "
   ]
  }
 ],
 "metadata": {
  "kernelspec": {
   "display_name": "Python 3 (ipykernel)",
   "language": "python",
   "name": "python3"
  },
  "language_info": {
   "codemirror_mode": {
    "name": "ipython",
    "version": 3
   },
   "file_extension": ".py",
   "mimetype": "text/x-python",
   "name": "python",
   "nbconvert_exporter": "python",
   "pygments_lexer": "ipython3",
   "version": "3.11.7"
  }
 },
 "nbformat": 4,
 "nbformat_minor": 5
}
